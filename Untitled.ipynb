{
 "cells": [
  {
   "cell_type": "markdown",
   "id": "3ec68416-6d2a-4e76-a3f1-6f42ddf244db",
   "metadata": {},
   "source": [
    "## <b><u>QR Code Generator</b"
   ]
  },
  {
   "cell_type": "markdown",
   "id": "dd2b171f-1171-4e9e-bf61-5419d42b874a",
   "metadata": {},
   "source": [
    "The Qr code generator, is a code that can be used to get free Qr codes from the system rather than paying. The Python QR Code Generator is a versatile and easy-to-use tool designed to create QR codes for various purposes. Whether you need QR codes for business cards, promotional materials, or personal projects, this generator provides a straightforward way to produce high-quality QR codes quickly."
   ]
  },
  {
   "cell_type": "markdown",
   "id": "b8ee0988-ecf9-47d4-9824-5a1ae5b0e9f5",
   "metadata": {},
   "source": [
    "## Table of Content\n",
    "<b><ol>\n",
    "    <li>Installing the library</li>\n",
    "    <li>Importing all libraries</li>\n",
    "    <li>Creating a Qr code</li>\n",
    "    <li>Saving the Qr code</li>\n",
    "    <li>Styling the Qr code</li>\n",
    "    <li>Beginner Code Example</li>\n",
    "    <li>Advanced Code Example</li>\n",
    "    <li>Virtual Card Example</li>\n",
    "</ol></b>"
   ]
  },
  {
   "cell_type": "markdown",
   "id": "a71ca99e-3c15-4c70-aae1-efbbe306ee06",
   "metadata": {},
   "source": [
    "## Installing the library"
   ]
  },
  {
   "cell_type": "markdown",
   "id": "38ba7ba9-40ff-4bba-8464-754b77bad998",
   "metadata": {},
   "source": [
    "Install the required libraries: Make sure you have the qrcode and Pillow libraries installed"
   ]
  },
  {
   "cell_type": "code",
   "execution_count": null,
   "id": "688fadd7-9895-459a-a253-58fd54bdcb5d",
   "metadata": {},
   "outputs": [],
   "source": [
    "pip install qrcode\n",
    "pip install Pillow"
   ]
  },
  {
   "cell_type": "markdown",
   "id": "bcee3247-b4a0-4c81-bc8a-e579d27a16eb",
   "metadata": {},
   "source": [
    "## Importing all libraries"
   ]
  },
  {
   "cell_type": "markdown",
   "id": "f8c7730d-f31b-4347-b09d-f37a0a34e065",
   "metadata": {},
   "source": [
    "Note that we dont have to import the Pillow library"
   ]
  },
  {
   "cell_type": "code",
   "execution_count": null,
   "id": "c0805612-b050-44cc-85b2-886fec2519c2",
   "metadata": {},
   "outputs": [],
   "source": [
    "import qrcode"
   ]
  },
  {
   "cell_type": "markdown",
   "id": "db2f40b9-a440-42c6-8c02-53accf37e572",
   "metadata": {},
   "source": [
    "## Creating a Qr code"
   ]
  },
  {
   "cell_type": "markdown",
   "id": "d715bca7-f93b-4c1d-84a7-b982b644e541",
   "metadata": {},
   "source": [
    "We used qr.add_data ass it is more safe to add the data rather than directly assigning the values,it causes issues."
   ]
  },
  {
   "cell_type": "code",
   "execution_count": null,
   "id": "fd9d521d-7d69-4ef2-9cba-6b01f6f2f69c",
   "metadata": {},
   "outputs": [],
   "source": [
    "qr = qrcode.QRCode(error_correction=qrcode.constants.ERROR_CORRECT_L)\n",
    "qr.add_data('https://www.instagram.com/t3ammach10/')"
   ]
  },
  {
   "cell_type": "markdown",
   "id": "83ec248f-0804-4754-a7aa-33763455cf1a",
   "metadata": {},
   "source": [
    "## Saving the Qr code"
   ]
  },
  {
   "cell_type": "markdown",
   "id": "d2ee8b0b-762c-4738-aace-ea7744d6737e",
   "metadata": {},
   "source": [
    "Here we need to call the save function and store it under any name"
   ]
  },
  {
   "cell_type": "raw",
   "id": "2f463d55-5660-41dc-be08-4eb5c30b95f4",
   "metadata": {},
   "source": [
    "img.save('example.png')"
   ]
  },
  {
   "cell_type": "markdown",
   "id": "efdc0409-7a25-41a5-9174-423ae47a9269",
   "metadata": {},
   "source": [
    "## Styling the Qr code"
   ]
  },
  {
   "cell_type": "markdown",
   "id": "ae3aa782-30af-402a-bec2-f319d94b8d22",
   "metadata": {},
   "source": [
    "For styling Qr codes, there are alot of ways of doing it, here i will show how to do the gradient colour mask. First we import the neccesary functions in the library"
   ]
  },
  {
   "cell_type": "code",
   "execution_count": null,
   "id": "8f3a2cfc-2c08-41b3-87ab-cf3481223a13",
   "metadata": {},
   "outputs": [],
   "source": [
    "from qrcode.image.styledpil import StyledPilImage\n",
    "from qrcode.image.styles.moduledrawers.pil import RoundedModuleDrawer\n",
    "from qrcode.image.styles.colormasks import RadialGradiantColorMask"
   ]
  },
  {
   "cell_type": "markdown",
   "id": "b505715e-3217-441b-bd0a-a2789efb803e",
   "metadata": {},
   "source": [
    "Now write the styling under the make qr code function. "
   ]
  },
  {
   "cell_type": "code",
   "execution_count": null,
   "id": "784f3cdd-9cee-4aeb-a7cf-2e818a3130ee",
   "metadata": {},
   "outputs": [],
   "source": [
    "img = qr.make_image(\n",
    "image_factory=StyledPilImage,\n",
    "module_drawer=RoundedModuleDrawer(),\n",
    "color_mask=RadialGradiantColorMask()\n",
    ")"
   ]
  },
  {
   "cell_type": "markdown",
   "id": "7a4bc24b-cb79-47b6-bf12-111d9b453998",
   "metadata": {},
   "source": [
    "## Beginner Code Example"
   ]
  },
  {
   "cell_type": "markdown",
   "id": "a95ac942-cf5c-46d9-a31b-2fbc0e35b174",
   "metadata": {},
   "source": [
    "This is a very simple code that is easy to understand and execute"
   ]
  },
  {
   "cell_type": "code",
   "execution_count": null,
   "id": "57b35b62-b74a-4d45-aeb7-78e259e206c4",
   "metadata": {},
   "outputs": [],
   "source": [
    "import qrcode\n",
    "\n",
    "# Data to be encoded\n",
    "data = 'Hello, World!'\n",
    "\n",
    "# Create a QR code\n",
    "img = qrcode.make(data)\n",
    "\n",
    "# Save the QR code as an image file\n",
    "img.save('basic_qrcode.png')"
   ]
  },
  {
   "cell_type": "markdown",
   "id": "8b01c1d6-b6fe-4d80-bb34-08066c0c5bc0",
   "metadata": {},
   "source": [
    "## Advanced Code Example"
   ]
  },
  {
   "cell_type": "markdown",
   "id": "ba99e8e0-853e-4102-965a-c37f5a05685d",
   "metadata": {},
   "source": [
    "This code is used to showcase my team's instagram account with a blue colour gradient, making it visually more appealing"
   ]
  },
  {
   "cell_type": "code",
   "execution_count": null,
   "id": "22c203bf-1a2f-45e5-af72-09cbc3d9731c",
   "metadata": {},
   "outputs": [],
   "source": [
    "import qrcode\n",
    "from qrcode.image.styledpil import StyledPilImage\n",
    "from qrcode.image.styles.moduledrawers.pil import RoundedModuleDrawer\n",
    "from qrcode.image.styles.colormasks import RadialGradiantColorMask\n",
    "\n",
    "# Create a QRCode object\n",
    "qr = qrcode.QRCode(error_correction=qrcode.constants.ERROR_CORRECT_L)\n",
    "qr.add_data('https://www.instagram.com/t3ammach10/')\n",
    "\n",
    "# Create a styled image\n",
    "img = qr.make_image(\n",
    "image_factory=StyledPilImage,\n",
    "module_drawer=RoundedModuleDrawer(),\n",
    "color_mask=RadialGradiantColorMask()\n",
    ")\n",
    "\n",
    "# Save the image\n",
    "img.save('styled_qrcode.png')"
   ]
  },
  {
   "cell_type": "markdown",
   "id": "402a7999-ee97-4991-913d-f2b2928f08d1",
   "metadata": {},
   "source": [
    "## Virtual Card Example"
   ]
  },
  {
   "cell_type": "markdown",
   "id": "4f3a8891-759e-4006-bc4c-b8b0fa48bb2a",
   "metadata": {},
   "source": [
    "This code is dedicted for businness Owners, who want to share their personal information to others easily"
   ]
  },
  {
   "cell_type": "code",
   "execution_count": null,
   "id": "a03bc2f4-ae75-4418-9a82-c6dc76cc698f",
   "metadata": {},
   "outputs": [],
   "source": [
    "import qrcode\n",
    "img = qrcode.make('''\n",
    "BEGIN:VCARD\n",
    "VERSION:3.0\n",
    "N:Gump;Forrest;;Mr.;\n",
    "FN:Forrest Gump\n",
    "ORG:Bubba Gump Shrimp Co.\n",
    "TEL;TYPE=Work:011 555-1212\n",
    "TEL;TYPE=mobile:072 434-1202\n",
    "ADR;TYPE=Work,PREF:;;100 Waters Edge;Baytown;LA;30314;United States of America\n",
    "LABEL;TYPE=Work,PREF:100 Waters Edge\\nBaytown\\, LA 30314\\nUnited States of America\n",
    "EMAIL;TYPE=Work:forrestgump@example.com\n",
    "END:VCARD\n",
    "''')\n",
    "type(img)\n",
    "img.save(\"vcard.png\")"
   ]
  },
  {
   "cell_type": "markdown",
   "id": "e170b271-bfbc-489b-8bb2-a1f75a0670c2",
   "metadata": {},
   "source": [
    "## <b>I hope that the code has helped you, if you want to learn more about qrcode or have any quarry on the above codes then message me on linked in @Ruthuvik Santhosh Gowda </b>"
   ]
  }
 ],
 "metadata": {
  "kernelspec": {
   "display_name": "Python [conda env:base] *",
   "language": "python",
   "name": "conda-base-py"
  },
  "language_info": {
   "codemirror_mode": {
    "name": "ipython",
    "version": 3
   },
   "file_extension": ".py",
   "mimetype": "text/x-python",
   "name": "python",
   "nbconvert_exporter": "python",
   "pygments_lexer": "ipython3",
   "version": "3.12.7"
  }
 },
 "nbformat": 4,
 "nbformat_minor": 5
}
